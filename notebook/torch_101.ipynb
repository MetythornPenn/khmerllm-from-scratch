{
 "cells": [
  {
   "cell_type": "code",
   "execution_count": 2,
   "metadata": {},
   "outputs": [
    {
     "name": "stdout",
     "output_type": "stream",
     "text": [
      "cuda\n"
     ]
    }
   ],
   "source": [
    "import torch\n",
    "import torch.nn as nn\n",
    "from torch.nn import functional as F\n",
    "import numpy as np\n",
    "import time\n",
    "device = 'cuda' if torch.cuda.is_available() else 'cpu'\n",
    "print(device)"
   ]
  },
  {
   "cell_type": "code",
   "execution_count": 3,
   "metadata": {},
   "outputs": [
    {
     "name": "stdout",
     "output_type": "stream",
     "text": [
      "tensor([ 26,  21, -73,  99,  20, -97]) \n",
      "\n",
      "tensor([[-61,  46,  38],\n",
      "        [ 34, -41,   9],\n",
      "        [-96,  30, -15],\n",
      "        [-63,  44, -56],\n",
      "        [-87, -82, -79],\n",
      "        [ 92, -34, -80]]) \n",
      "\n",
      "tensor([[[ 73,  25],\n",
      "         [-22, -33],\n",
      "         [ 45,   4]],\n",
      "\n",
      "        [[-98, -85],\n",
      "         [ 95, -46],\n",
      "         [ 36,  92]],\n",
      "\n",
      "        [[ 61, -43],\n",
      "         [ 95,   3],\n",
      "         [ -1,  35]],\n",
      "\n",
      "        [[-57,  49],\n",
      "         [  0,  26],\n",
      "         [-40,  88]],\n",
      "\n",
      "        [[ 86,  12],\n",
      "         [-98, -41],\n",
      "         [ 66,  75]],\n",
      "\n",
      "        [[ 84,   7],\n",
      "         [-53,  43],\n",
      "         [-66,  37]]])\n"
     ]
    }
   ],
   "source": [
    "randint_1d = torch.randint(-100, 100, (6,))\n",
    "randint_2d = torch.randint(-100, 100, (6,3))\n",
    "randint_3d = torch.randint(-100, 100, (6,3, 2))\n",
    "\n",
    "print(randint_1d, '\\n')\n",
    "print(randint_2d, '\\n')\n",
    "print(randint_3d)"
   ]
  },
  {
   "cell_type": "code",
   "execution_count": 4,
   "metadata": {},
   "outputs": [
    {
     "name": "stdout",
     "output_type": "stream",
     "text": [
      "tensor([[1, 2, 3],\n",
      "        [4, 5, 6]])\n"
     ]
    }
   ],
   "source": [
    "tensor = torch.tensor([[1,2,3], [4,5,6]])\n",
    "# tensor = tensor.view(3, 3)\n",
    "print(tensor)"
   ]
  },
  {
   "cell_type": "code",
   "execution_count": 5,
   "metadata": {},
   "outputs": [
    {
     "data": {
      "text/plain": [
       "tensor([[0., 0., 0.],\n",
       "        [0., 0., 0.]])"
      ]
     },
     "execution_count": 5,
     "metadata": {},
     "output_type": "execute_result"
    }
   ],
   "source": [
    "zeros = torch.zeros(2,3)\n",
    "zeros"
   ]
  },
  {
   "cell_type": "code",
   "execution_count": 6,
   "metadata": {},
   "outputs": [],
   "source": [
    "ones = torch.ones(3, 4)"
   ]
  },
  {
   "cell_type": "code",
   "execution_count": 8,
   "metadata": {},
   "outputs": [],
   "source": [
    "# small_float = torch.empty(1, dtype=)"
   ]
  },
  {
   "cell_type": "code",
   "execution_count": 7,
   "metadata": {},
   "outputs": [
    {
     "name": "stdout",
     "output_type": "stream",
     "text": [
      "0.00041914\n",
      "CPU times: user 476 µs, sys: 434 µs, total: 910 µs\n",
      "Wall time: 683 µs\n"
     ]
    }
   ],
   "source": [
    "%%time\n",
    "start_time = time.time()\n",
    "# matrix operations here\n",
    "zeros = torch.zeros(1, 1)\n",
    "end_time = time.time()\n",
    "\n",
    "elapsed_time = end_time - start_time\n",
    "print(f\"{elapsed_time:.8f}\")"
   ]
  },
  {
   "cell_type": "code",
   "execution_count": 4,
   "metadata": {},
   "outputs": [
    {
     "name": "stdout",
     "output_type": "stream",
     "text": [
      "1.37782574\n",
      "0.08416343\n"
     ]
    }
   ],
   "source": [
    "torch_rand1 = torch.rand(100, 100, 100, 100).to(device)\n",
    "torch_rand2 = torch.rand(100, 100, 100, 100).to(device)\n",
    "np_rand1 = torch.rand(100, 100, 100, 100)\n",
    "np_rand2 = torch.rand(100, 100, 100, 100)\n",
    "\n",
    "start_time = time.time()\n",
    "\n",
    "rand = (torch_rand1 @ torch_rand2)\n",
    "\n",
    "end_time = time.time()\n",
    "\n",
    "elapsed_time = end_time - start_time\n",
    "print(f\"{elapsed_time:.8f}\")\n",
    "\n",
    "\n",
    "start_time = time.time()\n",
    "\n",
    "rand = np.multiply(np_rand1, np_rand2)\n",
    "end_time = time.time()\n",
    "elapsed_time = end_time - start_time\n",
    "print(f\"{elapsed_time:.8f}\")"
   ]
  },
  {
   "cell_type": "code",
   "execution_count": 13,
   "metadata": {},
   "outputs": [
    {
     "name": "stdout",
     "output_type": "stream",
     "text": [
      "tensor([1, 1, 1, 1, 0, 1, 1, 1, 1, 1])\n"
     ]
    }
   ],
   "source": [
    "# embeddings, torch.stack, torch.multinomial, torch.tril, torch.triu, input.T / input.transpose, nn.Linear, torch.cat, F.softmax (show all the examples of functions/methods with pytorch docs)\n",
    "\n",
    "\n",
    "# Define a probability tensor\n",
    "probabilities = torch.tensor([0.1, 0.9])\n",
    "# 10% or 0.1 => 0, 90% or 0.9 => 1. each probability points to the index of the probability in the tensor\n",
    "# Draw 5 samples from the multinomial distribution\n",
    "samples = torch.multinomial(probabilities, num_samples=10, replacement=True)\n",
    "print(samples)"
   ]
  },
  {
   "cell_type": "code",
   "execution_count": 15,
   "metadata": {},
   "outputs": [
    {
     "data": {
      "text/plain": [
       "tensor([ 1,  2,  3,  4,  5, 10])"
      ]
     },
     "execution_count": 15,
     "metadata": {},
     "output_type": "execute_result"
    }
   ],
   "source": [
    "tensor = torch.tensor([1,2,3,4,5])\n",
    "out = torch.cat((tensor, torch.tensor([10])), dim=0)\n",
    "out"
   ]
  },
  {
   "cell_type": "code",
   "execution_count": 16,
   "metadata": {},
   "outputs": [
    {
     "data": {
      "text/plain": [
       "tensor([[1., 0., 0., 0., 0.],\n",
       "        [1., 1., 0., 0., 0.],\n",
       "        [1., 1., 1., 0., 0.],\n",
       "        [1., 1., 1., 1., 0.],\n",
       "        [1., 1., 1., 1., 1.]])"
      ]
     },
     "execution_count": 16,
     "metadata": {},
     "output_type": "execute_result"
    }
   ],
   "source": [
    "out = torch.tril(torch.ones(5, 5))\n",
    "out"
   ]
  },
  {
   "cell_type": "code",
   "execution_count": 18,
   "metadata": {},
   "outputs": [
    {
     "data": {
      "text/plain": [
       "tensor([[1., 1., 1., 1., 1.],\n",
       "        [0., 1., 1., 1., 1.],\n",
       "        [0., 0., 1., 1., 1.],\n",
       "        [0., 0., 0., 1., 1.],\n",
       "        [0., 0., 0., 0., 1.]])"
      ]
     },
     "execution_count": 18,
     "metadata": {},
     "output_type": "execute_result"
    }
   ],
   "source": [
    "out = torch.triu(torch.ones(5,5))\n",
    "out"
   ]
  },
  {
   "cell_type": "code",
   "execution_count": 19,
   "metadata": {},
   "outputs": [
    {
     "data": {
      "text/plain": [
       "tensor([[0., -inf, -inf, -inf, -inf],\n",
       "        [0., 0., -inf, -inf, -inf],\n",
       "        [0., 0., 0., -inf, -inf],\n",
       "        [0., 0., 0., 0., -inf],\n",
       "        [0., 0., 0., 0., 0.]])"
      ]
     },
     "execution_count": 19,
     "metadata": {},
     "output_type": "execute_result"
    }
   ],
   "source": [
    "out = torch.zeros(5, 5).masked_fill(torch.tril(torch.ones(5, 5)) == 0, float('-inf'))\n",
    "out"
   ]
  },
  {
   "cell_type": "code",
   "execution_count": 20,
   "metadata": {},
   "outputs": [
    {
     "data": {
      "text/plain": [
       "tensor([[1., 0., 0., 0., 0.],\n",
       "        [1., 1., 0., 0., 0.],\n",
       "        [1., 1., 1., 0., 0.],\n",
       "        [1., 1., 1., 1., 0.],\n",
       "        [1., 1., 1., 1., 1.]])"
      ]
     },
     "execution_count": 20,
     "metadata": {},
     "output_type": "execute_result"
    }
   ],
   "source": [
    "torch.exp(out)"
   ]
  },
  {
   "cell_type": "code",
   "execution_count": 23,
   "metadata": {},
   "outputs": [
    {
     "name": "stdout",
     "output_type": "stream",
     "text": [
      "torch.Size([3, 2, 4])\n",
      "torch.Size([2, 4, 3])\n"
     ]
    }
   ],
   "source": [
    "input = torch.zeros(2, 3, 4)\n",
    "out1 = input.transpose(0, 1)\n",
    "out2 = input.transpose(-2,-1)\n",
    "print(out1.shape)\n",
    "print(out2.shape)\n",
    "# torch.permute works the same but you provide the new order of dimensions instead of the dimensions you'd like to swap."
   ]
  },
  {
   "cell_type": "code",
   "execution_count": 24,
   "metadata": {},
   "outputs": [
    {
     "data": {
      "text/plain": [
       "tensor([[1, 2, 3],\n",
       "        [4, 5, 6],\n",
       "        [7, 8, 9]])"
      ]
     },
     "execution_count": 24,
     "metadata": {},
     "output_type": "execute_result"
    }
   ],
   "source": [
    "tensor1 = torch.tensor([1, 2, 3])\n",
    "tensor2 = torch.tensor([4, 5, 6])\n",
    "tensor3 = torch.tensor([7, 8, 9])\n",
    "\n",
    "# Stack the tensors along a new dimension\n",
    "stacked_tensor = torch.stack([tensor1, tensor2, tensor3])\n",
    "stacked_tensor\n"
   ]
  },
  {
   "cell_type": "code",
   "execution_count": 25,
   "metadata": {},
   "outputs": [
    {
     "name": "stdout",
     "output_type": "stream",
     "text": [
      "tensor([  6.1811, -14.4528,   6.1102], grad_fn=<SqueezeBackward4>)\n"
     ]
    }
   ],
   "source": [
    "import torch.nn as nn\n",
    "sample = torch.tensor([10.,10.,10.])\n",
    "linear = nn.Linear(3, 3, bias=False)\n",
    "print(linear(sample))"
   ]
  },
  {
   "cell_type": "code",
   "execution_count": 5,
   "metadata": {},
   "outputs": [
    {
     "name": "stdout",
     "output_type": "stream",
     "text": [
      "tensor([0.0900, 0.2447, 0.6652])\n"
     ]
    }
   ],
   "source": [
    "import torch.nn.functional as F\n",
    "\n",
    "# Create a tensor\n",
    "tensor1 = torch.tensor([1.0, 2.0, 3.0])\n",
    "\n",
    "# Apply softmax using torch.nn.funtional.softmax()\n",
    "softmax_output = F.softmax(tensor1, dim=0)\n",
    "\n",
    "print(softmax_output)"
   ]
  },
  {
   "cell_type": "code",
   "execution_count": 6,
   "metadata": {},
   "outputs": [
    {
     "name": "stdout",
     "output_type": "stream",
     "text": [
      "torch.Size([4, 6])\n",
      "tensor([[ 1.1844,  1.4478, -0.4377, -1.0174,  1.3985,  0.4654],\n",
      "        [-0.9652,  0.5983, -0.0124, -1.9301, -0.5542,  0.6121],\n",
      "        [-1.6841,  0.6114, -1.0348, -2.5228, -1.0145,  0.9897],\n",
      "        [-1.1846,  0.4179, -0.8162, -1.0067, -0.6297,  0.6683]],\n",
      "       grad_fn=<EmbeddingBackward0>)\n"
     ]
    }
   ],
   "source": [
    "# Initialize an embedding layer\n",
    "vocab_size = 80\n",
    "embedding_dim = 6\n",
    "embedding = nn.Embedding(vocab_size, embedding_dim)\n",
    "\n",
    "# Create some input indices\n",
    "input_indices = torch.LongTensor([1, 5, 3, 2])\n",
    "\n",
    "# Apply the embedding layer\n",
    "embedded_output = embedding(input_indices)\n",
    "\n",
    "# The output will be a tensor of shape (4, 100), where 4 is the number of inputs\n",
    "# and 100 is the dimensionality of the embedding vectors\n",
    "print(embedded_output.shape)\n",
    "print(embedded_output)\n"
   ]
  },
  {
   "cell_type": "code",
   "execution_count": 7,
   "metadata": {},
   "outputs": [
    {
     "name": "stdout",
     "output_type": "stream",
     "text": [
      "tensor([[ 27,  30,  33],\n",
      "        [ 61,  68,  75],\n",
      "        [ 95, 106, 117]])\n"
     ]
    }
   ],
   "source": [
    "a = torch.tensor([[1,2],[3,4],[5,6]])\n",
    "b = torch.tensor([[7,8,9],[10,11,12]])\n",
    "# print(a @ b)\n",
    "print(torch.matmul(a, b))"
   ]
  },
  {
   "cell_type": "code",
   "execution_count": 8,
   "metadata": {},
   "outputs": [
    {
     "name": "stdout",
     "output_type": "stream",
     "text": [
      "tensor([[0., 0., 0.],\n",
      "        [0., 0., 0.],\n",
      "        [0., 0., 0.]])\n"
     ]
    }
   ],
   "source": [
    "int_64 = torch.randint(1, (3, 2)).float()\n",
    "#type int64\n",
    "float_32 = torch.rand(2,3)\n",
    "#type float32\n",
    "# print(int_64.dtype, float_32.dtype)\n",
    "result = torch.matmul(int_64, float_32)\n",
    "print(result)"
   ]
  },
  {
   "cell_type": "code",
   "execution_count": 9,
   "metadata": {},
   "outputs": [
    {
     "name": "stdout",
     "output_type": "stream",
     "text": [
      "torch.Size([2, 3, 5])\n",
      "torch.Size([2, 3, 5])\n"
     ]
    }
   ],
   "source": [
    "a = torch.rand(2, 3, 5)\n",
    "print(a.shape)\n",
    "x, y, z = a.shape\n",
    "a = a.view(x,y,z)\n",
    "# print(x, y, z)\n",
    "print(a.shape)"
   ]
  },
  {
   "cell_type": "code",
   "execution_count": 10,
   "metadata": {},
   "outputs": [
    {
     "name": "stdout",
     "output_type": "stream",
     "text": [
      "tensor([[0.4605, 0.1075, 0.1498, 0.9993, 0.0506, 0.0398, 0.0386, 0.0586, 0.5195,\n",
      "         0.2424],\n",
      "        [0.2050, 0.8847, 0.8112, 0.0163, 0.0024, 0.0604, 0.4690, 0.8693, 0.8643,\n",
      "         0.5714],\n",
      "        [0.0394, 0.1117, 0.6585, 0.3117, 0.7191, 0.2439, 0.4411, 0.0356, 0.8903,\n",
      "         0.3260],\n",
      "        [0.2612, 0.7656, 0.3167, 0.6475, 0.6378, 0.5157, 0.9187, 0.8572, 0.4828,\n",
      "         0.4786],\n",
      "        [0.2250, 0.2256, 0.3330, 0.0263, 0.3873, 0.6214, 0.8987, 0.3628, 0.1286,\n",
      "         0.5191],\n",
      "        [0.7292, 0.2665, 0.4950, 0.5210, 0.4071, 0.7910, 0.1010, 0.0463, 0.1283,\n",
      "         0.2128],\n",
      "        [0.5882, 0.1487, 0.3149, 0.6153, 0.0727, 0.7695, 0.8536, 0.9090, 0.8741,\n",
      "         0.9507],\n",
      "        [0.1716, 0.8645, 0.1626, 0.1005, 0.8754, 0.9951, 0.3292, 0.5198, 0.4321,\n",
      "         0.4726],\n",
      "        [0.9766, 0.3431, 0.3474, 0.1016, 0.6246, 0.3880, 0.6860, 0.7520, 0.2758,\n",
      "         0.3641],\n",
      "        [0.7141, 0.1520, 0.9630, 0.4740, 0.5908, 0.6140, 0.5695, 0.2905, 0.0071,\n",
      "         0.7494],\n",
      "        [0.7601, 0.1198, 0.1223, 0.4554, 0.7341, 0.4284, 0.6324, 0.4707, 0.4079,\n",
      "         0.9391],\n",
      "        [0.5961, 0.3841, 0.9220, 0.8604, 0.9700, 0.8565, 0.5430, 0.0296, 0.0599,\n",
      "         0.3672],\n",
      "        [0.0592, 0.9034, 0.5918, 0.0571, 0.3112, 0.9101, 0.2664, 0.3851, 0.9630,\n",
      "         0.0934],\n",
      "        [0.0734, 0.8398, 0.1206, 0.5124, 0.1550, 0.4491, 0.7981, 0.9324, 0.6547,\n",
      "         0.7428],\n",
      "        [0.5006, 0.2856, 0.8993, 0.0181, 0.2677, 0.8396, 0.3487, 0.2046, 0.3840,\n",
      "         0.8255],\n",
      "        [0.9870, 0.5842, 0.0788, 0.6599, 0.1136, 0.9569, 0.6569, 0.0134, 0.8220,\n",
      "         0.0937],\n",
      "        [0.9835, 0.4946, 0.0317, 0.0883, 0.3965, 0.3867, 0.3214, 0.4128, 0.3727,\n",
      "         0.2004],\n",
      "        [0.8027, 0.0682, 0.5385, 0.8062, 0.9346, 0.0405, 0.2000, 0.6677, 0.0027,\n",
      "         0.1630],\n",
      "        [0.5324, 0.5520, 0.2654, 0.3070, 0.0071, 0.4724, 0.5209, 0.0806, 0.5287,\n",
      "         0.4959],\n",
      "        [0.6470, 0.9994, 0.4891, 0.5690, 0.1997, 0.4696, 0.8049, 0.5004, 0.9727,\n",
      "         0.0772],\n",
      "        [0.6483, 0.1468, 0.9787, 0.8184, 0.8618, 0.4328, 0.7761, 0.1334, 0.4999,\n",
      "         0.1725],\n",
      "        [0.1348, 0.6687, 0.5732, 0.1843, 0.7679, 0.7265, 0.6316, 0.3498, 0.0932,\n",
      "         0.7234],\n",
      "        [0.2408, 0.6084, 0.4533, 0.5252, 0.0809, 0.3553, 0.0231, 0.5513, 0.0697,\n",
      "         0.8626],\n",
      "        [0.1379, 0.4092, 0.6426, 0.5351, 0.5231, 0.7928, 0.8850, 0.3036, 0.1543,\n",
      "         0.5052],\n",
      "        [0.4211, 0.3475, 0.6834, 0.0912, 0.5915, 0.6618, 0.9912, 0.2153, 0.1488,\n",
      "         0.9591],\n",
      "        [0.4840, 0.8315, 0.9061, 0.5955, 0.5284, 0.6135, 0.6988, 0.6680, 0.0034,\n",
      "         0.9283],\n",
      "        [0.0268, 0.0363, 0.2777, 0.5364, 0.7823, 0.7016, 0.2499, 0.0144, 0.7592,\n",
      "         0.9241],\n",
      "        [0.0533, 0.6107, 0.3282, 0.0921, 0.7771, 0.2622, 0.4035, 0.8696, 0.1389,\n",
      "         0.5528],\n",
      "        [0.1169, 0.1783, 0.1928, 0.5304, 0.9672, 0.8507, 0.7620, 0.9013, 0.3231,\n",
      "         0.9795],\n",
      "        [0.0458, 0.5713, 0.9321, 0.6529, 0.2564, 0.2075, 0.6720, 0.1358, 0.8225,\n",
      "         0.9335],\n",
      "        [0.5538, 0.8462, 0.6832, 0.0785, 0.6037, 0.2815, 0.6422, 0.8529, 0.8239,\n",
      "         0.9760],\n",
      "        [0.4039, 0.6070, 0.8653, 0.1286, 0.0888, 0.5236, 0.0430, 0.5268, 0.5301,\n",
      "         0.5825]])\n"
     ]
    },
    {
     "ename": "IndexError",
     "evalue": "too many indices for tensor of dimension 2",
     "output_type": "error",
     "traceback": [
      "\u001b[0;31m---------------------------------------------------------------------------\u001b[0m",
      "\u001b[0;31mIndexError\u001b[0m                                Traceback (most recent call last)",
      "Cell \u001b[0;32mIn[10], line 6\u001b[0m\n\u001b[1;32m      4\u001b[0m \u001b[38;5;28mprint\u001b[39m(output)\n\u001b[1;32m      5\u001b[0m \u001b[38;5;66;03m# print(input)\u001b[39;00m\n\u001b[0;32m----> 6\u001b[0m \u001b[38;5;28mprint\u001b[39m(\u001b[43moutput\u001b[49m\u001b[43m[\u001b[49m\u001b[43m:\u001b[49m\u001b[43m,\u001b[49m\u001b[43m \u001b[49m\u001b[38;5;241;43m-\u001b[39;49m\u001b[38;5;241;43m1\u001b[39;49m\u001b[43m,\u001b[49m\u001b[43m \u001b[49m\u001b[43m:\u001b[49m\u001b[43m]\u001b[49m)\n",
      "\u001b[0;31mIndexError\u001b[0m: too many indices for tensor of dimension 2"
     ]
    }
   ],
   "source": [
    "input = torch.rand((4, 8, 10))\n",
    "B, T, C = input.shape\n",
    "output = input.view(B*T, C)\n",
    "print(output)\n",
    "# print(input)\n",
    "print(output[:, -1, :])"
   ]
  },
  {
   "cell_type": "code",
   "execution_count": 11,
   "metadata": {},
   "outputs": [
    {
     "name": "stdout",
     "output_type": "stream",
     "text": [
      "tensor([1.])\n"
     ]
    }
   ],
   "source": [
    "x = torch.tensor([10], dtype=torch.float32)\n",
    "y = F.tanh(x)\n",
    "print(y)"
   ]
  }
 ],
 "metadata": {
  "kernelspec": {
   "display_name": "llm",
   "language": "python",
   "name": "python3"
  },
  "language_info": {
   "codemirror_mode": {
    "name": "ipython",
    "version": 3
   },
   "file_extension": ".py",
   "mimetype": "text/x-python",
   "name": "python",
   "nbconvert_exporter": "python",
   "pygments_lexer": "ipython3",
   "version": "3.10.13"
  }
 },
 "nbformat": 4,
 "nbformat_minor": 2
}
