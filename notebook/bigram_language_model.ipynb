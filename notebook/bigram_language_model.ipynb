{
 "cells": [
  {
   "cell_type": "markdown",
   "metadata": {},
   "source": [
    "### libraries"
   ]
  },
  {
   "cell_type": "code",
   "execution_count": 3,
   "metadata": {},
   "outputs": [
    {
     "name": "stdout",
     "output_type": "stream",
     "text": [
      "2.0.1+cu117\n",
      "cuda\n"
     ]
    }
   ],
   "source": [
    "import torch\n",
    "import torch.nn as nn\n",
    "from torch.nn import functional as F\n",
    "print(torch.__version__)\n",
    "\n",
    "device: str = 'cuda' if torch.cuda.is_available() else 'cpu'\n",
    "print(device)\n",
    "\n",
    "# configuration\n",
    "block_size = 8  # how many characters in context \n",
    "batch_size = 64   # how many sampler or block size that use in parallel compute \n",
    "max_iters = 1000\n",
    "# eval_internal = 2500\n",
    "learning_rate = 0.0004\n",
    "eval_internal = 250"
   ]
  },
  {
   "cell_type": "markdown",
   "metadata": {},
   "source": [
    "###  Convert words in text file to chars list "
   ]
  },
  {
   "cell_type": "code",
   "execution_count": 5,
   "metadata": {},
   "outputs": [
    {
     "name": "stdout",
     "output_type": "stream",
     "text": [
      "Size of vocab:  81\n",
      "List of chars:  ['\\n', ' ', '!', '\"', '&', \"'\", '(', ')', '*', ',', '-', '.', '0', '1', '2', '3', '4', '5', '6', '7', '8', '9', ':', ';', '?', 'A', 'B', 'C', 'D', 'E', 'F', 'G', 'H', 'I', 'J', 'K', 'L', 'M', 'N', 'O', 'P', 'Q', 'R', 'S', 'T', 'U', 'V', 'W', 'X', 'Y', 'Z', '[', ']', '_', 'a', 'b', 'c', 'd', 'e', 'f', 'g', 'h', 'i', 'j', 'k', 'l', 'm', 'n', 'o', 'p', 'q', 'r', 's', 't', 'u', 'v', 'w', 'x', 'y', 'z', '\\ufeff']\n"
     ]
    }
   ],
   "source": [
    "with open('data/wizard_of_oz.txt', 'r', encoding='utf-8') as f:\n",
    "    text = f.read()\n",
    "    \n",
    "\n",
    "\n",
    "# put words from .txt into char list\n",
    "chars = sorted(set(text))\n",
    "vocab_size = len(chars)\n",
    "print(\"Size of vocab: \", vocab_size)\n",
    "print(\"List of chars: \",chars)"
   ]
  },
  {
   "cell_type": "markdown",
   "metadata": {},
   "source": [
    "#### khmer | convert words in text file to chars list"
   ]
  },
  {
   "cell_type": "code",
   "execution_count": 6,
   "metadata": {},
   "outputs": [
    {
     "name": "stdout",
     "output_type": "stream",
     "text": [
      "Size of vocab:  56\n",
      "List of chars:  ['\\n', ' ', 'ក', 'ខ', 'គ', 'ង', 'ច', 'ឆ', 'ជ', 'ញ', 'ដ', 'ណ', 'ត', 'ថ', 'ទ', 'ធ', 'ន', 'ប', 'ផ', 'ព', 'ភ', 'ម', 'យ', 'រ', 'ល', 'វ', 'ស', 'ហ', 'ឡ', 'អ', 'ឬ', 'ឱ', 'ា', 'ិ', 'ី', 'ឹ', 'ឺ', 'ុ', 'ូ', 'ួ', 'ើ', 'ៀ', 'េ', 'ែ', 'ោ', 'ៅ', 'ំ', 'ះ', '៉', '៊', '់', '៍', '៏', '្', '។', '\\u200b']\n"
     ]
    }
   ],
   "source": [
    "with open('data/khmer_words.txt', 'r', encoding='utf-8') as k:\n",
    "    khmer_txt = k.read()\n",
    "\n",
    "chars_khm = sorted(set(khmer_txt))\n",
    "vocab_size_khmer = len(chars_khm)\n",
    "print(\"Size of vocab: \", vocab_size_khmer)\n",
    "print(\"List of chars: \",chars_khm)"
   ]
  },
  {
   "cell_type": "markdown",
   "metadata": {},
   "source": [
    "### encode decode function"
   ]
  },
  {
   "cell_type": "code",
   "execution_count": 7,
   "metadata": {},
   "outputs": [
    {
     "name": "stdout",
     "output_type": "stream",
     "text": [
      "[65, 65, 66, 1, 59, 71, 68, 66, 1, 72, 71, 54, 73, 56, 61]\n",
      "llm from sratch\n",
      "\n",
      "------------------ tensor dtype ------------------\n",
      "\n",
      "tensor([65, 65, 66,  1, 59, 71, 68, 66,  1, 72, 71, 54, 73, 56, 61])\n",
      "<class 'torch.Tensor'>\n"
     ]
    }
   ],
   "source": [
    "# create dic to map chars to int from 0 - len of chars\n",
    "import torch\n",
    "string_to_int = {ch:i for i,ch in enumerate(chars)}\n",
    "int_to_string = {i:ch for i, ch in enumerate(chars)}\n",
    "\n",
    "\n",
    "# create encode function\n",
    "encode = lambda s: [string_to_int[c] for c in s]\n",
    "\n",
    "def encode2(s):\n",
    "  encoded_list = []\n",
    "  for c in s:\n",
    "    encoded_list.append(string_to_int[c])\n",
    "  return encoded_list\n",
    "    \n",
    "    \n",
    " # create decode function  \n",
    "decode = lambda l: ''.join([int_to_string[i] for i in l])\n",
    "\n",
    "def decode2(l):\n",
    "  decoded_string = ''\n",
    "  for i in l:\n",
    "    decoded_string += int_to_string[i]\n",
    "  return decoded_string\n",
    "\n",
    "\n",
    "# test encode decode func \n",
    "encoded_word = encode2(\"llm from sratch\")\n",
    "print(encoded_word)\n",
    "\n",
    "decoded_word = decode2(encoded_word)\n",
    "print(decoded_word)\n",
    "\n",
    "print('\\n------------------ tensor dtype ------------------\\n')\n",
    "\n",
    "# test encode decode func with tensor dtype\n",
    "encoded_word2 = torch.tensor(encode2(\"llm from sratch\"), dtype=torch.long)\n",
    "print(encoded_word2)\n",
    "print(type(encoded_word2))\n",
    "\n",
    "# decoded_word2 = decode(encoded_word2)\n",
    "# print(decoded_word2)\n",
    "\n"
   ]
  },
  {
   "cell_type": "markdown",
   "metadata": {},
   "source": [
    "#### khmer encoder decoder function"
   ]
  },
  {
   "cell_type": "code",
   "execution_count": 13,
   "metadata": {},
   "outputs": [
    {
     "name": "stdout",
     "output_type": "stream",
     "text": [
      "[15, 16, 32, 4, 32, 23, 55, 29, 42, 26, 49, 34, 24, 34, 10, 32]\n",
      "16\n",
      "ធនាគារ​អេស៊ីលីដា\n",
      "tensor([15, 16, 32,  4, 32, 23, 55, 29, 42, 26, 49, 34, 24, 34, 10, 32])\n",
      "<class 'torch.Tensor'>\n"
     ]
    }
   ],
   "source": [
    "khm_str_to_int = { ch:i for i, ch in enumerate(chars_khm)}\n",
    "khm_int_to_str = { i:ch for i, ch in enumerate(chars_khm)}\n",
    "\n",
    "khm_encode = lambda s: [khm_str_to_int[c] for c in s]\n",
    "khm_decode = lambda l: ''.join([khm_int_to_str[i] for i in l])\n",
    "\n",
    "\n",
    "\n",
    "khm_encode_word = khm_encode(\"ធនាគារ​អេស៊ីលីដា\")\n",
    "print(khm_encode_word)\n",
    "print(len(khm_encode_word))\n",
    "\n",
    "khm_decode_word = khm_decode(khm_encode_word)\n",
    "print(khm_decode_word)\n",
    "\n",
    "# test encode decode func with tensor dtype\n",
    "khm_encoded_word2 = torch.tensor(khm_encode(\"ធនាគារ​អេស៊ីលីដា\"), dtype=torch.long)\n",
    "print(khm_encoded_word2)\n",
    "print(type(khm_encoded_word2))\n"
   ]
  },
  {
   "cell_type": "markdown",
   "metadata": {},
   "source": [
    "### using torch"
   ]
  },
  {
   "cell_type": "code",
   "execution_count": 8,
   "metadata": {},
   "outputs": [
    {
     "name": "stdout",
     "output_type": "stream",
     "text": [
      "tensor([80,  1,  1, 28, 39, 42, 39, 44, 32, 49,  1, 25, 38, 28,  1, 44, 32, 29,\n",
      "         1, 47, 33, 50, 25, 42, 28,  1, 33, 38,  1, 39, 50,  0,  0,  1,  1, 26,\n",
      "        49,  0,  0,  1,  1, 36, 11,  1, 30, 42, 25, 38, 35,  1])\n",
      "232309\n"
     ]
    }
   ],
   "source": [
    "# convert data from plaint text to tensor dtype \n",
    "data = torch.tensor(encode(text), dtype=torch.long)\n",
    "print(data[:50])\n",
    "print(len(data))\n",
    "\n",
    "# split data to train/test\n",
    "n = int(0.8 * len(data))\n",
    "train_data = data[:n]\n",
    "val_data = data[n:]\n"
   ]
  },
  {
   "cell_type": "code",
   "execution_count": 9,
   "metadata": {},
   "outputs": [
    {
     "name": "stdout",
     "output_type": "stream",
     "text": [
      "inputs:\n",
      "tensor([[ 1, 54, 67, 57,  1, 60, 54, 71],\n",
      "        [58, 57,  9,  1, 72, 73, 58, 71],\n",
      "        [61, 58, 67,  1, 73, 61, 58,  1],\n",
      "        [72,  1, 76, 58, 71, 58,  1, 72],\n",
      "        [58,  1, 58, 77, 69, 71, 58, 72],\n",
      "        [39, 72, 56, 54, 71,  1, 50, 68],\n",
      "        [61, 58, 71,  1, 69, 65, 54, 56],\n",
      "        [ 1, 72, 54, 62, 57,  1, 72, 68],\n",
      "        [68, 71, 64,  1, 61, 62, 72,  1],\n",
      "        [71, 58, 54, 57, 59, 74, 65,  2],\n",
      "        [61, 58, 58, 71, 59, 74, 65, 65],\n",
      "        [68, 74, 11,  3,  0,  0,  3, 44],\n",
      "        [56, 62, 57, 58, 57,  1, 28, 68],\n",
      "        [58, 76,  1, 66, 68, 66, 58, 67],\n",
      "        [57,  1, 59, 65, 74, 59, 59, 78],\n",
      "        [67, 60,  1, 46, 62, 67, 58, 72],\n",
      "        [ 1, 56, 68, 66, 58,  1, 68, 74],\n",
      "        [78, 11,  0,  0,  3, 39, 61,  9],\n",
      "        [57,  1, 54, 71, 68, 74, 67, 57],\n",
      "        [ 1,  1,  1, 16, 13,  0,  0,  1],\n",
      "        [65,  1, 78, 68, 74,  1, 55, 74],\n",
      "        [58, 72,  1, 68, 59,  1, 59, 65],\n",
      "        [61, 58, 73, 61, 58, 71,  1, 78],\n",
      "        [61, 58, 67,  1, 28, 68, 71, 68],\n",
      "        [ 1, 55, 58,  1, 57, 58, 54, 57],\n",
      "        [57,  1, 72, 61, 58,  1, 54, 76],\n",
      "        [68, 71,  1, 78, 68, 74,  1, 54],\n",
      "        [71, 58, 54, 73, 61, 58,  1, 58],\n",
      "        [72, 73, 58, 67,  1, 72, 68, 66],\n",
      "        [62, 67,  0, 39, 79, 11,  3,  0],\n",
      "        [ 1, 61, 68, 71, 72, 58,  9,  0],\n",
      "        [57,  1, 54, 73,  1, 68, 67, 56],\n",
      "        [58, 65, 58, 75, 58, 67,  1, 55],\n",
      "        [68, 68, 57,  9,  3,  1, 72, 54],\n",
      "        [72,  1, 74, 67, 61, 68, 68, 64],\n",
      "        [68,  1, 58, 72, 56, 54, 69, 58],\n",
      "        [ 1, 76, 54, 72,  1, 73, 61, 58],\n",
      "        [ 1, 62, 67,  1, 67, 68,  1, 61],\n",
      "        [11,  1, 32, 58,  1, 71, 58, 54],\n",
      "        [76, 61, 62, 56, 61,  1, 73, 61],\n",
      "        [76,  1, 54, 67, 57,  1, 56, 61],\n",
      "        [61, 58, 71, 58,  1, 62, 72,  1],\n",
      "        [ 1, 61, 68, 71, 72, 58,  1, 54],\n",
      "        [62, 72,  1, 56, 54, 75, 58,  1],\n",
      "        [ 0, 76, 68, 68, 57,  9,  1, 54],\n",
      "        [71, 58,  1, 73, 61, 58, 78,  1],\n",
      "        [66, 69, 58, 57,  1, 57, 68, 76],\n",
      "        [ 1, 72, 58, 58,  9,  3,  1, 71],\n",
      "        [54, 76, 67, 72,  1, 55, 58, 65],\n",
      "        [ 1, 54, 67, 57,  1, 73, 71, 58],\n",
      "        [73,  0, 76, 54, 72,  1, 72, 66],\n",
      "        [ 1, 74, 72,  1, 73, 68,  1, 72],\n",
      "        [60, 78,  1, 78, 68, 74,  1, 72],\n",
      "        [ 1, 71, 54, 78, 72,  1, 68, 59],\n",
      "        [73,  1, 76, 62, 65, 65,  1, 55],\n",
      "        [62, 79, 54, 71, 57,  1, 78, 68],\n",
      "        [ 1, 76, 61, 58, 67,  0, 78, 68],\n",
      "        [61, 78, 11,  0,  0,  3, 47, 61],\n",
      "        [65,  1, 54, 67, 57,  1, 76, 54],\n",
      "        [55, 74, 60, 60, 78,  1, 68, 67],\n",
      "        [57,  1, 73, 61, 58,  1, 47, 62],\n",
      "        [ 1, 68, 74, 73,  1, 55, 58, 67],\n",
      "        [ 1, 68, 55, 58, 78, 58, 57, 11],\n",
      "        [68, 74, 65, 57,  1, 56, 68, 74]], device='cuda:0')\n",
      "targets:\n",
      "tensor([[54, 67, 57,  1, 60, 54, 71, 57],\n",
      "        [57,  9,  1, 72, 73, 58, 71, 67],\n",
      "        [58, 67,  1, 73, 61, 58,  1, 69],\n",
      "        [ 1, 76, 58, 71, 58,  1, 72, 61],\n",
      "        [ 1, 58, 77, 69, 71, 58, 72, 72],\n",
      "        [72, 56, 54, 71,  1, 50, 68, 71],\n",
      "        [58, 71,  1, 69, 65, 54, 56, 58],\n",
      "        [72, 54, 62, 57,  1, 72, 68, 23],\n",
      "        [71, 64,  1, 61, 62, 72,  1, 76],\n",
      "        [58, 54, 57, 59, 74, 65,  2,  3],\n",
      "        [58, 58, 71, 59, 74, 65, 65, 78],\n",
      "        [74, 11,  3,  0,  0,  3, 44, 61],\n",
      "        [62, 57, 58, 57,  1, 28, 68, 71],\n",
      "        [76,  1, 66, 68, 66, 58, 67, 73],\n",
      "        [ 1, 59, 65, 74, 59, 59, 78,  1],\n",
      "        [60,  1, 46, 62, 67, 58, 72,  9],\n",
      "        [56, 68, 66, 58,  1, 68, 74, 73],\n",
      "        [11,  0,  0,  3, 39, 61,  9,  1],\n",
      "        [ 1, 54, 71, 68, 74, 67, 57,  9],\n",
      "        [ 1,  1, 16, 13,  0,  0,  1,  1],\n",
      "        [ 1, 78, 68, 74,  1, 55, 74, 78],\n",
      "        [72,  1, 68, 59,  1, 59, 65, 54],\n",
      "        [58, 73, 61, 58, 71,  1, 78, 68],\n",
      "        [58, 67,  1, 28, 68, 71, 68, 73],\n",
      "        [55, 58,  1, 57, 58, 54, 57,  1],\n",
      "        [ 1, 72, 61, 58,  1, 54, 76, 54],\n",
      "        [71,  1, 78, 68, 74,  1, 54, 71],\n",
      "        [58, 54, 73, 61, 58,  1, 58, 54],\n",
      "        [73, 58, 67,  1, 72, 68, 66, 58],\n",
      "        [67,  0, 39, 79, 11,  3,  0,  0],\n",
      "        [61, 68, 71, 72, 58,  9,  0, 76],\n",
      "        [ 1, 54, 73,  1, 68, 67, 56, 58],\n",
      "        [65, 58, 75, 58, 67,  1, 55, 58],\n",
      "        [68, 57,  9,  3,  1, 72, 54, 62],\n",
      "        [ 1, 74, 67, 61, 68, 68, 64, 58],\n",
      "        [ 1, 58, 72, 56, 54, 69, 58,  1],\n",
      "        [76, 54, 72,  1, 73, 61, 58,  1],\n",
      "        [62, 67,  1, 67, 68,  1, 61, 74],\n",
      "        [ 1, 32, 58,  1, 71, 58, 54, 56],\n",
      "        [61, 62, 56, 61,  1, 73, 61, 58],\n",
      "        [ 1, 54, 67, 57,  1, 56, 61, 54],\n",
      "        [58, 71, 58,  1, 62, 72,  1, 67],\n",
      "        [61, 68, 71, 72, 58,  1, 54, 67],\n",
      "        [72,  1, 56, 54, 75, 58,  1, 62],\n",
      "        [76, 68, 68, 57,  9,  1, 54, 67],\n",
      "        [58,  1, 73, 61, 58, 78,  1, 56],\n",
      "        [69, 58, 57,  1, 57, 68, 76, 67],\n",
      "        [72, 58, 58,  9,  3,  1, 71, 58],\n",
      "        [76, 67, 72,  1, 55, 58, 65, 68],\n",
      "        [54, 67, 57,  1, 73, 71, 58, 58],\n",
      "        [ 0, 76, 54, 72,  1, 72, 66, 68],\n",
      "        [74, 72,  1, 73, 68,  1, 72, 68],\n",
      "        [78,  1, 78, 68, 74,  1, 72, 58],\n",
      "        [71, 54, 78, 72,  1, 68, 59,  1],\n",
      "        [ 1, 76, 62, 65, 65,  1, 55, 58],\n",
      "        [79, 54, 71, 57,  1, 78, 68, 74],\n",
      "        [76, 61, 58, 67,  0, 78, 68, 74],\n",
      "        [78, 11,  0,  0,  3, 47, 61, 78],\n",
      "        [ 1, 54, 67, 57,  1, 76, 54, 62],\n",
      "        [74, 60, 60, 78,  1, 68, 67, 73],\n",
      "        [ 1, 73, 61, 58,  1, 47, 62, 79],\n",
      "        [68, 74, 73,  1, 55, 58, 67, 58],\n",
      "        [68, 55, 58, 78, 58, 57, 11,  1],\n",
      "        [74, 65, 57,  1, 56, 68, 74, 67]], device='cuda:0')\n"
     ]
    }
   ],
   "source": [
    "def get_batch(split):\n",
    "    data = train_data if split == 'train' else val_data\n",
    "    ix = torch.randint(len(data) - block_size, (batch_size,))\n",
    "    x = torch.stack([data[i:i+block_size] for i in ix])\n",
    "    y = torch.stack([data[i+1:i+block_size+1] for i in ix])\n",
    "    x, y = x.to(device), y.to(device)\n",
    "    return x, y\n",
    "\n",
    "x, y = get_batch('train')\n",
    "print('inputs:')\n",
    "# print(x.shape)\n",
    "print(x)\n",
    "print('targets:')\n",
    "print(y)\n",
    "\n",
    "    "
   ]
  },
  {
   "cell_type": "code",
   "execution_count": null,
   "metadata": {},
   "outputs": [],
   "source": []
  },
  {
   "cell_type": "code",
   "execution_count": null,
   "metadata": {},
   "outputs": [],
   "source": [
    "class BigramLanguageModel(nn.Module):\n",
    "    def __init__(self, vocab_size):\n",
    "        super().__init__()\n",
    "        self.token_embedding_table = nn.Embedding(vocab_size, vocab_size)\n",
    "        "
   ]
  }
 ],
 "metadata": {
  "kernelspec": {
   "display_name": "llm",
   "language": "python",
   "name": "python3"
  },
  "language_info": {
   "codemirror_mode": {
    "name": "ipython",
    "version": 3
   },
   "file_extension": ".py",
   "mimetype": "text/x-python",
   "name": "python",
   "nbconvert_exporter": "python",
   "pygments_lexer": "ipython3",
   "version": "3.10.13"
  }
 },
 "nbformat": 4,
 "nbformat_minor": 2
}
