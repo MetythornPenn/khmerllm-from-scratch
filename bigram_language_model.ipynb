{
 "cells": [
  {
   "cell_type": "markdown",
   "metadata": {},
   "source": [
    "### libraries"
   ]
  },
  {
   "cell_type": "code",
   "execution_count": 8,
   "metadata": {},
   "outputs": [
    {
     "name": "stdout",
     "output_type": "stream",
     "text": [
      "2.0.1+cu117\n",
      "cuda\n"
     ]
    }
   ],
   "source": [
    "import torch\n",
    "import torch.nn as nn\n",
    "from torch.nn import functional as F\n",
    "print(torch.__version__)\n",
    "\n",
    "device: str = 'cuda' if torch.cuda.is_available() else 'cpu'\n",
    "print(device)\n",
    "\n",
    "# configuration\n",
    "block_size = 8  # how many characters in context \n",
    "batch_size = 64   # how many sampler or block size that use in parallel compute \n",
    "max_iters = 1000\n",
    "# eval_internal = 2500\n",
    "learning_rate = 0.0004\n",
    "eval_internal = 250"
   ]
  },
  {
   "cell_type": "markdown",
   "metadata": {},
   "source": [
    "###  Convert words in text file to chars list "
   ]
  },
  {
   "cell_type": "code",
   "execution_count": 2,
   "metadata": {},
   "outputs": [
    {
     "name": "stdout",
     "output_type": "stream",
     "text": [
      "Size of vocab:  81\n",
      "List of chars:  ['\\n', ' ', '!', '\"', '&', \"'\", '(', ')', '*', ',', '-', '.', '0', '1', '2', '3', '4', '5', '6', '7', '8', '9', ':', ';', '?', 'A', 'B', 'C', 'D', 'E', 'F', 'G', 'H', 'I', 'J', 'K', 'L', 'M', 'N', 'O', 'P', 'Q', 'R', 'S', 'T', 'U', 'V', 'W', 'X', 'Y', 'Z', '[', ']', '_', 'a', 'b', 'c', 'd', 'e', 'f', 'g', 'h', 'i', 'j', 'k', 'l', 'm', 'n', 'o', 'p', 'q', 'r', 's', 't', 'u', 'v', 'w', 'x', 'y', 'z', '\\ufeff']\n"
     ]
    }
   ],
   "source": [
    "with open('data/wizard_of_oz.txt', 'r', encoding='utf-8') as f:\n",
    "    text = f.read()\n",
    "\n",
    "# put words from .txt into char list\n",
    "chars = sorted(set(text))\n",
    "vocab_size = len(chars)\n",
    "print(\"Size of vocab: \", vocab_size)\n",
    "print(\"List of chars: \",chars)"
   ]
  },
  {
   "cell_type": "markdown",
   "metadata": {},
   "source": [
    "### encode decode function"
   ]
  },
  {
   "cell_type": "code",
   "execution_count": 3,
   "metadata": {},
   "outputs": [
    {
     "name": "stdout",
     "output_type": "stream",
     "text": [
      "[65, 65, 66, 1, 59, 71, 68, 66, 1, 72, 71, 54, 73, 56, 61]\n",
      "llm from sratch\n",
      "\n",
      "------------------ tensor dtype ------------------\n",
      "\n",
      "tensor([65, 65, 66,  1, 59, 71, 68, 66,  1, 72, 71, 54, 73, 56, 61])\n",
      "<class 'torch.Tensor'>\n"
     ]
    }
   ],
   "source": [
    "# create dic to map chars to int from 0 - len of chars\n",
    "import torch\n",
    "string_to_int = {ch:i for i,ch in enumerate(chars)}\n",
    "int_to_string = {i:ch for i, ch in enumerate(chars)}\n",
    "\n",
    "\n",
    "# create encode function\n",
    "encode = lambda s: [string_to_int[c] for c in s]\n",
    "\n",
    "def encode2(s):\n",
    "  encoded_list = []\n",
    "  for c in s:\n",
    "    encoded_list.append(string_to_int[c])\n",
    "  return encoded_list\n",
    "    \n",
    "    \n",
    " # create decode function  \n",
    "decode = lambda l: ''.join([int_to_string[i] for i in l])\n",
    "\n",
    "def decode2(l):\n",
    "  decoded_string = ''\n",
    "  for i in l:\n",
    "    decoded_string += int_to_string[i]\n",
    "  return decoded_string\n",
    "\n",
    "\n",
    "# test encode decode func \n",
    "encoded_word = encode2(\"llm from sratch\")\n",
    "print(encoded_word)\n",
    "\n",
    "decoded_word = decode2(encoded_word)\n",
    "print(decoded_word)\n",
    "\n",
    "print('\\n------------------ tensor dtype ------------------\\n')\n",
    "\n",
    "# test encode decode func with tensor dtype\n",
    "encoded_word2 = torch.tensor(encode2(\"llm from sratch\"), dtype=torch.long)\n",
    "print(encoded_word2)\n",
    "print(type(encoded_word2))\n",
    "\n",
    "# decoded_word2 = decode(encoded_word2)\n",
    "# print(decoded_word2)\n",
    "\n"
   ]
  },
  {
   "cell_type": "code",
   "execution_count": null,
   "metadata": {},
   "outputs": [],
   "source": []
  },
  {
   "cell_type": "markdown",
   "metadata": {},
   "source": [
    "### using torch"
   ]
  },
  {
   "cell_type": "code",
   "execution_count": 4,
   "metadata": {},
   "outputs": [
    {
     "name": "stdout",
     "output_type": "stream",
     "text": [
      "tensor([80,  1,  1, 28, 39, 42, 39, 44, 32, 49,  1, 25, 38, 28,  1, 44, 32, 29,\n",
      "         1, 47, 33, 50, 25, 42, 28,  1, 33, 38,  1, 39, 50,  0,  0,  1,  1, 26,\n",
      "        49,  0,  0,  1,  1, 36, 11,  1, 30, 42, 25, 38, 35,  1])\n",
      "232309\n"
     ]
    }
   ],
   "source": [
    "# convert data from plaint text to tensor dtype \n",
    "data = torch.tensor(encode(text), dtype=torch.long)\n",
    "print(data[:50])\n",
    "print(len(data))\n",
    "\n",
    "# split data to train/test\n",
    "n = int(0.8 * len(data))\n",
    "train_data = data[:n]\n",
    "val_data = data[n:]\n",
    "\n"
   ]
  },
  {
   "cell_type": "code",
   "execution_count": 7,
   "metadata": {},
   "outputs": [
    {
     "name": "stdout",
     "output_type": "stream",
     "text": [
      "when input is tensor([80]) the target is tensor(32)\n",
      "when input is tensor([80,  1]) the target is tensor(49)\n",
      "when input is tensor([80,  1,  1]) the target is tensor(1)\n",
      "when input is tensor([80,  1,  1, 28]) the target is tensor(25)\n",
      "when input is tensor([80,  1,  1, 28, 39]) the target is tensor(38)\n",
      "when input is tensor([80,  1,  1, 28, 39, 42]) the target is tensor(28)\n",
      "when input is tensor([80,  1,  1, 28, 39, 42, 39]) the target is tensor(1)\n",
      "when input is tensor([80,  1,  1, 28, 39, 42, 39, 44]) the target is tensor(44)\n"
     ]
    }
   ],
   "source": [
    "# batch size hyperparameters \n",
    "\n",
    "block_size = 8\n",
    "\n",
    "x = train_data[:block_size]\n",
    "y = train_data[block_size:]\n",
    "\n",
    "for t in range(block_size):\n",
    "    context = x[:t+1]\n",
    "    target = y[t]\n",
    "    print(\"when input is\", context, \"the target is\", target)\n",
    "    "
   ]
  },
  {
   "cell_type": "code",
   "execution_count": null,
   "metadata": {},
   "outputs": [],
   "source": []
  }
 ],
 "metadata": {
  "kernelspec": {
   "display_name": "llm",
   "language": "python",
   "name": "python3"
  },
  "language_info": {
   "codemirror_mode": {
    "name": "ipython",
    "version": 3
   },
   "file_extension": ".py",
   "mimetype": "text/x-python",
   "name": "python",
   "nbconvert_exporter": "python",
   "pygments_lexer": "ipython3",
   "version": "3.10.13"
  }
 },
 "nbformat": 4,
 "nbformat_minor": 2
}
