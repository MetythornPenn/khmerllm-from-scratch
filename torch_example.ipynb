{
 "cells": [
  {
   "cell_type": "code",
   "execution_count": 6,
   "metadata": {},
   "outputs": [],
   "source": [
    "import torch\n",
    "import time \n",
    "\n",
    "# device = 'cuda' if torch.cuda.is_available() else 'cpu'\n",
    "# print(device)"
   ]
  },
  {
   "cell_type": "code",
   "execution_count": 24,
   "metadata": {},
   "outputs": [
    {
     "name": "stdout",
     "output_type": "stream",
     "text": [
      "tensor([ 11,  -7,   8,  88, -57,  46]) \n",
      "\n",
      "tensor([[-75,  38, -87],\n",
      "        [  3, -48, -82],\n",
      "        [-93, -51, -36],\n",
      "        [-24, -84, -88],\n",
      "        [ 30, -64, -80],\n",
      "        [ 80,  68,  74]]) \n",
      "\n",
      "tensor([[[-26, -47],\n",
      "         [ 48,  76],\n",
      "         [-79, -58]],\n",
      "\n",
      "        [[ 27, -61],\n",
      "         [-17,  55],\n",
      "         [-21, -41]],\n",
      "\n",
      "        [[  4, -12],\n",
      "         [ 80, -54],\n",
      "         [ 67,  43]],\n",
      "\n",
      "        [[ 58, -89],\n",
      "         [-88, -54],\n",
      "         [-39,  43]],\n",
      "\n",
      "        [[-46, -68],\n",
      "         [ 50,  12],\n",
      "         [-94,  89]],\n",
      "\n",
      "        [[-65,  46],\n",
      "         [ 15,  36],\n",
      "         [-25, -30]]])\n"
     ]
    }
   ],
   "source": [
    "randint_1d = torch.randint(-100, 100, (6,))\n",
    "randint_2d = torch.randint(-100, 100, (6,3))\n",
    "randint_3d = torch.randint(-100, 100, (6,3, 2))\n",
    "\n",
    "print(randint_1d, '\\n')\n",
    "print(randint_2d, '\\n')\n",
    "print(randint_3d)"
   ]
  },
  {
   "cell_type": "code",
   "execution_count": 30,
   "metadata": {},
   "outputs": [
    {
     "name": "stdout",
     "output_type": "stream",
     "text": [
      "tensor([[1, 2, 3],\n",
      "        [4, 5, 6]])\n"
     ]
    }
   ],
   "source": [
    "tensor = torch.tensor([[1,2,3], [4,5,6]])\n",
    "# tensor = tensor.view(3, 3)\n",
    "print(tensor)"
   ]
  },
  {
   "cell_type": "code",
   "execution_count": 32,
   "metadata": {},
   "outputs": [
    {
     "data": {
      "text/plain": [
       "tensor([[0., 0., 0.],\n",
       "        [0., 0., 0.]])"
      ]
     },
     "execution_count": 32,
     "metadata": {},
     "output_type": "execute_result"
    }
   ],
   "source": [
    "zeros = torch.zeros(2,3)\n",
    "zeros"
   ]
  },
  {
   "cell_type": "code",
   "execution_count": 33,
   "metadata": {},
   "outputs": [],
   "source": [
    "ones = torch.ones(3, 4)"
   ]
  },
  {
   "cell_type": "code",
   "execution_count": null,
   "metadata": {},
   "outputs": [],
   "source": [
    "small_float = torch.empty(1, dtype=)"
   ]
  },
  {
   "cell_type": "code",
   "execution_count": 8,
   "metadata": {},
   "outputs": [
    {
     "name": "stdout",
     "output_type": "stream",
     "text": [
      "0.00006175\n",
      "CPU times: user 95 µs, sys: 0 ns, total: 95 µs\n",
      "Wall time: 108 µs\n"
     ]
    }
   ],
   "source": [
    "%%time\n",
    "start_time = time.time()\n",
    "# matrix operations here\n",
    "zeros = torch.zeros(1, 1)\n",
    "end_time = time.time()\n",
    "\n",
    "elapsed_time = end_time - start_time\n",
    "print(f\"{elapsed_time:.8f}\")"
   ]
  },
  {
   "cell_type": "code",
   "execution_count": null,
   "metadata": {},
   "outputs": [],
   "source": []
  }
 ],
 "metadata": {
  "kernelspec": {
   "display_name": "llm",
   "language": "python",
   "name": "python3"
  },
  "language_info": {
   "codemirror_mode": {
    "name": "ipython",
    "version": 3
   },
   "file_extension": ".py",
   "mimetype": "text/x-python",
   "name": "python",
   "nbconvert_exporter": "python",
   "pygments_lexer": "ipython3",
   "version": "3.10.13"
  }
 },
 "nbformat": 4,
 "nbformat_minor": 2
}
